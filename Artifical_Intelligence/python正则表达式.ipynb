{
 "cells": [
  {
   "cell_type": "markdown",
   "id": "0a350349",
   "metadata": {},
   "source": [
    "## 正则表达式语法\n",
    "\n",
    "https://www.runoob.com/regexp/regexp-syntax.html"
   ]
  },
  {
   "cell_type": "markdown",
   "id": "dcd75f8f",
   "metadata": {},
   "source": [
    "## Python 正则表达式\n",
    "* 指定好匹配的模式：pattern\n",
    "* 选择相应的方法：match, search等\n",
    "* 得到匹配结果：group\n",
    "\n",
    "* re.match # 从开始位置开始匹配，如果开头没有则无\n",
    "* re.search # 搜索整个字符串\n",
    "* re.findall # 搜索整个字符串，返回一个list"
   ]
  },
  {
   "cell_type": "code",
   "execution_count": 5,
   "id": "71b5262e",
   "metadata": {},
   "outputs": [],
   "source": [
    "input = '自然语言处理很重要 。12abc789'"
   ]
  },
  {
   "cell_type": "code",
   "execution_count": 8,
   "id": "d83659b1",
   "metadata": {},
   "outputs": [],
   "source": [
    "import re"
   ]
  },
  {
   "cell_type": "code",
   "execution_count": 9,
   "id": "f610c8b2",
   "metadata": {},
   "outputs": [],
   "source": [
    "pattern = re.compile(r'.')"
   ]
  },
  {
   "cell_type": "code",
   "execution_count": 10,
   "id": "494022e9",
   "metadata": {},
   "outputs": [
    {
     "data": {
      "text/plain": [
       "['自',\n",
       " '然',\n",
       " '语',\n",
       " '言',\n",
       " '处',\n",
       " '理',\n",
       " '很',\n",
       " '重',\n",
       " '要',\n",
       " ' ',\n",
       " '。',\n",
       " '1',\n",
       " '2',\n",
       " 'a',\n",
       " 'b',\n",
       " 'c',\n",
       " '7',\n",
       " '8',\n",
       " '9']"
      ]
     },
     "execution_count": 10,
     "metadata": {},
     "output_type": "execute_result"
    }
   ],
   "source": [
    "re.findall(pattern, input)"
   ]
  },
  {
   "cell_type": "markdown",
   "id": "e22d400e",
   "metadata": {},
   "source": [
    "## 字符集合\n",
    "* [abc]指定包含字符\n",
    "* [a-zA-Z]来指定所有英文字母的大小写\n",
    "* [^a-zA-Z]来指定不匹配所有英文字母"
   ]
  },
  {
   "cell_type": "code",
   "execution_count": 11,
   "id": "6125894d",
   "metadata": {},
   "outputs": [
    {
     "data": {
      "text/plain": [
       "['a', 'b', 'c']"
      ]
     },
     "execution_count": 11,
     "metadata": {},
     "output_type": "execute_result"
    }
   ],
   "source": [
    "pattern = re.compile(r'[abc]')\n",
    "re.findall(pattern, input)"
   ]
  },
  {
   "cell_type": "code",
   "execution_count": 12,
   "id": "528cb5f2",
   "metadata": {},
   "outputs": [
    {
     "data": {
      "text/plain": [
       "['a', 'b', 'c']"
      ]
     },
     "execution_count": 12,
     "metadata": {},
     "output_type": "execute_result"
    }
   ],
   "source": [
    "pattern = re.compile(r'[a-zA-Z]')\n",
    "re.findall(pattern, input)"
   ]
  },
  {
   "cell_type": "code",
   "execution_count": 13,
   "id": "b4ba933a",
   "metadata": {},
   "outputs": [
    {
     "data": {
      "text/plain": [
       "['自',\n",
       " '然',\n",
       " '语',\n",
       " '言',\n",
       " '处',\n",
       " '理',\n",
       " '很',\n",
       " '重',\n",
       " '要',\n",
       " ' ',\n",
       " '。',\n",
       " '1',\n",
       " '2',\n",
       " '7',\n",
       " '8',\n",
       " '9']"
      ]
     },
     "execution_count": 13,
     "metadata": {},
     "output_type": "execute_result"
    }
   ],
   "source": [
    "pattern = re.compile(r'[^a-zA-Z]')\n",
    "re.findall(pattern, input)"
   ]
  },
  {
   "cell_type": "markdown",
   "id": "06fcbd6e",
   "metadata": {},
   "source": [
    "## 或方法\n",
    "将两个规则并列起来，以|连接，表示只要满足其中之一就可匹配\n",
    "* [a-zA-Z]|[0-9]表示满足数字或字母就可匹配，等价于[a-zA-Z0-9]"
   ]
  },
  {
   "cell_type": "code",
   "execution_count": 15,
   "id": "b29a2b3a",
   "metadata": {},
   "outputs": [
    {
     "data": {
      "text/plain": [
       "['1', '2', 'a', 'b', 'c', '7', '8', '9']"
      ]
     },
     "execution_count": 15,
     "metadata": {},
     "output_type": "execute_result"
    }
   ],
   "source": [
    "pattern = re.compile(r'[a-zA-Z]|[0-9]')\n",
    "re.findall(pattern, input)"
   ]
  },
  {
   "cell_type": "markdown",
   "id": "7c625383",
   "metadata": {},
   "source": [
    "## 匹配数字'\\d'等价于[0-9]"
   ]
  },
  {
   "cell_type": "code",
   "execution_count": 16,
   "id": "6620820c",
   "metadata": {},
   "outputs": [
    {
     "data": {
      "text/plain": [
       "['1', '2', '7', '8', '9']"
      ]
     },
     "execution_count": 16,
     "metadata": {},
     "output_type": "execute_result"
    }
   ],
   "source": [
    "pattern = re.compile(r'\\d')\n",
    "re.findall(pattern, input)"
   ]
  },
  {
   "cell_type": "markdown",
   "id": "328c3f69",
   "metadata": {},
   "source": [
    "## '\\D'匹配非数字"
   ]
  },
  {
   "cell_type": "code",
   "execution_count": 17,
   "id": "d3e60f92",
   "metadata": {},
   "outputs": [
    {
     "data": {
      "text/plain": [
       "['自', '然', '语', '言', '处', '理', '很', '重', '要', ' ', '。', 'a', 'b', 'c']"
      ]
     },
     "execution_count": 17,
     "metadata": {},
     "output_type": "execute_result"
    }
   ],
   "source": [
    "pattern = re.compile(r'\\D')\n",
    "re.findall(pattern, input)"
   ]
  },
  {
   "cell_type": "markdown",
   "id": "4fcc7718",
   "metadata": {},
   "source": [
    "## '\\w'匹配字母和数字"
   ]
  },
  {
   "cell_type": "code",
   "execution_count": 18,
   "id": "641744ab",
   "metadata": {},
   "outputs": [
    {
     "data": {
      "text/plain": [
       "['自',\n",
       " '然',\n",
       " '语',\n",
       " '言',\n",
       " '处',\n",
       " '理',\n",
       " '很',\n",
       " '重',\n",
       " '要',\n",
       " '1',\n",
       " '2',\n",
       " 'a',\n",
       " 'b',\n",
       " 'c',\n",
       " '7',\n",
       " '8',\n",
       " '9']"
      ]
     },
     "execution_count": 18,
     "metadata": {},
     "output_type": "execute_result"
    }
   ],
   "source": [
    "pattern = re.compile(r'\\w')\n",
    "re.findall(pattern, input)"
   ]
  },
  {
   "cell_type": "markdown",
   "id": "4f6c0958",
   "metadata": {},
   "source": [
    "## '\\W'匹配非字母和数字"
   ]
  },
  {
   "cell_type": "code",
   "execution_count": 19,
   "id": "3ce378a8",
   "metadata": {},
   "outputs": [
    {
     "data": {
      "text/plain": [
       "[' ', '。']"
      ]
     },
     "execution_count": 19,
     "metadata": {},
     "output_type": "execute_result"
    }
   ],
   "source": [
    "pattern = re.compile(r'\\W')\n",
    "re.findall(pattern, input)"
   ]
  },
  {
   "cell_type": "markdown",
   "id": "d08c325a",
   "metadata": {},
   "source": [
    "## '\\s'匹配间隔符"
   ]
  },
  {
   "cell_type": "code",
   "execution_count": 20,
   "id": "5a8e96bd",
   "metadata": {},
   "outputs": [
    {
     "data": {
      "text/plain": [
       "[' ']"
      ]
     },
     "execution_count": 20,
     "metadata": {},
     "output_type": "execute_result"
    }
   ],
   "source": [
    "pattern = re.compile(r'\\s')\n",
    "re.findall(pattern, input)"
   ]
  },
  {
   "cell_type": "markdown",
   "id": "a40eb7c5",
   "metadata": {},
   "source": [
    "## 重复\n",
    "正则表达式可以匹配不定长的字符串\n",
    "'*': 0或多次匹配\n",
    "'+': 1次或多次匹配\n",
    "'?': 0或1次匹配"
   ]
  },
  {
   "cell_type": "code",
   "execution_count": 22,
   "id": "d4769440",
   "metadata": {},
   "outputs": [
    {
     "data": {
      "text/plain": [
       "['', '', '', '', '', '', '', '', '', '', '', '12', '', '', '', '789', '']"
      ]
     },
     "execution_count": 22,
     "metadata": {},
     "output_type": "execute_result"
    }
   ],
   "source": [
    "pattern = re.compile(r'\\d*')\n",
    "re.findall(pattern, input)"
   ]
  },
  {
   "cell_type": "code",
   "execution_count": 24,
   "id": "313fe272",
   "metadata": {},
   "outputs": [
    {
     "data": {
      "text/plain": [
       "['12', '789']"
      ]
     },
     "execution_count": 24,
     "metadata": {},
     "output_type": "execute_result"
    }
   ],
   "source": [
    "pattern = re.compile(r'\\d+')\n",
    "re.findall(pattern, input)"
   ]
  },
  {
   "cell_type": "code",
   "execution_count": 25,
   "id": "52e0c887",
   "metadata": {},
   "outputs": [
    {
     "data": {
      "text/plain": [
       "['',\n",
       " '',\n",
       " '',\n",
       " '',\n",
       " '',\n",
       " '',\n",
       " '',\n",
       " '',\n",
       " '',\n",
       " '',\n",
       " '',\n",
       " '1',\n",
       " '2',\n",
       " '',\n",
       " '',\n",
       " '',\n",
       " '7',\n",
       " '8',\n",
       " '9',\n",
       " '']"
      ]
     },
     "execution_count": 25,
     "metadata": {},
     "output_type": "execute_result"
    }
   ],
   "source": [
    "pattern = re.compile(r'\\d?')\n",
    "re.findall(pattern, input)"
   ]
  },
  {
   "cell_type": "markdown",
   "id": "a7abc19e",
   "metadata": {},
   "source": [
    "## 精确匹配和最小匹配\n",
    "'{m}'精确匹配m次\n",
    "'{m,n}' 匹配最少m次，最多n次 (n>m)"
   ]
  },
  {
   "cell_type": "code",
   "execution_count": 26,
   "id": "af5af72c",
   "metadata": {},
   "outputs": [
    {
     "data": {
      "text/plain": [
       "['789']"
      ]
     },
     "execution_count": 26,
     "metadata": {},
     "output_type": "execute_result"
    }
   ],
   "source": [
    "pattern = re.compile(r'\\d{3}')\n",
    "re.findall(pattern, input)"
   ]
  },
  {
   "cell_type": "code",
   "execution_count": 27,
   "id": "2f809993",
   "metadata": {},
   "outputs": [
    {
     "data": {
      "text/plain": [
       "['12', '789']"
      ]
     },
     "execution_count": 27,
     "metadata": {},
     "output_type": "execute_result"
    }
   ],
   "source": [
    "pattern = re.compile(r'\\d{1,3}')\n",
    "re.findall(pattern, input)"
   ]
  },
  {
   "cell_type": "code",
   "execution_count": null,
   "id": "c2d408a0",
   "metadata": {},
   "outputs": [],
   "source": []
  }
 ],
 "metadata": {
  "kernelspec": {
   "display_name": "Python 3 (ipykernel)",
   "language": "python",
   "name": "python3"
  },
  "language_info": {
   "codemirror_mode": {
    "name": "ipython",
    "version": 3
   },
   "file_extension": ".py",
   "mimetype": "text/x-python",
   "name": "python",
   "nbconvert_exporter": "python",
   "pygments_lexer": "ipython3",
   "version": "3.11.3"
  }
 },
 "nbformat": 4,
 "nbformat_minor": 5
}
